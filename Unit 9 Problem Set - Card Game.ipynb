{
 "cells": [
  {
   "cell_type": "markdown",
   "metadata": {},
   "source": [
    "# Unit 9 Problem Set\n",
    "\n",
    "In this problem set we will build a set of classes that will be used to play the card game Blackjack. If you have never played, then you can find the simple rules here: https://www.bicyclecards.com/how-to-play/blackjack/\n"
   ]
  },
  {
   "cell_type": "markdown",
   "metadata": {},
   "source": [
    "## The Card class"
   ]
  },
  {
   "cell_type": "markdown",
   "metadata": {},
   "source": [
    "1.Think about a deck of cards. What do you need to know in order to tell one card from another? \n",
    "\n",
    "There are thirteen different ranks, from Ace to King. There are four different suits: Clubs, Diamonds, Hearts, and Spades. So, to know everything about a single card you need its rank and its suit. In card games such as blackjack, where the cards are worth a certain number of points, it is also helpful to have a third variable, called value that is an integer related to a card's rank. The values of the cards are [2,3,4,5,6,7,8,9,10,10,10,10,11], respectively (meaning, the Jack, King, Queen, and 10 have a value of 10 and the Ace has a value of 11).\n",
    "\n",
    "Create a **class** named **Card**. Include three **attributes**: **rank** and **suit** (both strings) and **value** (int). Don't forget the initializing (__init__) and the toString (__str__) methods.\n",
    "\n",
    "Test that you can create a few cards. Make several instances of different cards: try Ace of Spades and Eight of Hearts. "
   ]
  },
  {
   "cell_type": "code",
   "execution_count": 1,
   "metadata": {},
   "outputs": [
    {
     "name": "stdout",
     "output_type": "stream",
     "text": [
      "Ace of Spades has a value of 11.\n"
     ]
    }
   ],
   "source": [
    "#insert 1\n",
    "class Card:\n",
    "    def __init__(self, rank, suit, value):\n",
    "        self.rank = str(rank)\n",
    "        self.suit = str(suit)\n",
    "        self.value = int(value)\n",
    "    def __str__(self):\n",
    "        return f\"{self.rank} of {self.suit} has a value of {self.value}.\"\n",
    "\n",
    "card = Card(\"Ace\", \"Spades\", \"11\")\n",
    "print(card)"
   ]
  },
  {
   "cell_type": "markdown",
   "metadata": {},
   "source": [
    "## The Deck class"
   ]
  },
  {
   "cell_type": "markdown",
   "metadata": {},
   "source": [
    "2.A typical deck of cards has one of each rank in one of each suit, for a total of 52 cards. Create a **class** named **Deck**. The **attribute** of our Deck class will be a single list of 52 Card objects named **cards**.\n",
    "\n",
    "To do this, you will need to send three lists to the initializing method as input: ranks, suits, and values. Then use a double for-loop to create the Cards (by calling the initializing method of the Card Class) and append them to the list called cards. To help, here are three lists that you can copy and paste in your code below:\n",
    "\n",
    "ranks = ['Two','Three','Four','Five','Six','Seven','Eight','Nine','Ten','Jack','Queen','King','Ace']\n",
    "\n",
    "suits = ['Clubs', 'Diamonds', 'Hearts', 'Spades']\n",
    "\n",
    "values = [2,3,4,5,6,7,8,9,10,10,10,10,11]"
   ]
  },
  {
   "cell_type": "code",
   "execution_count": 2,
   "metadata": {},
   "outputs": [
    {
     "name": "stdout",
     "output_type": "stream",
     "text": [
      "52\n",
      "Jack of Diamonds has a value of 10.\n",
      "King of Diamonds has a value of 10.\n",
      "King of Clubs has a value of 10.\n",
      "Jack of Clubs has a value of 10.\n",
      "Ten of Hearts has a value of 10.\n",
      "Queen of Hearts has a value of 10.\n",
      "Six of Spades has a value of 6.\n",
      "Ace of Clubs has a value of 11.\n",
      "Ace of Hearts has a value of 11.\n",
      "Four of Spades has a value of 4.\n",
      "Two of Clubs has a value of 2.\n",
      "Jack of Spades has a value of 10.\n",
      "Five of Diamonds has a value of 5.\n",
      "Eight of Spades has a value of 8.\n",
      "Five of Clubs has a value of 5.\n",
      "Queen of Spades has a value of 10.\n",
      "King of Spades has a value of 10.\n",
      "Six of Diamonds has a value of 6.\n",
      "Nine of Hearts has a value of 9.\n",
      "Eight of Clubs has a value of 8.\n",
      "Four of Hearts has a value of 4.\n",
      "Three of Hearts has a value of 3.\n",
      "Three of Diamonds has a value of 3.\n",
      "King of Hearts has a value of 10.\n",
      "Ace of Diamonds has a value of 11.\n",
      "Ten of Spades has a value of 10.\n",
      "Four of Clubs has a value of 4.\n",
      "Nine of Diamonds has a value of 9.\n",
      "Jack of Hearts has a value of 10.\n",
      "Five of Hearts has a value of 5.\n",
      "Queen of Clubs has a value of 10.\n",
      "Six of Hearts has a value of 6.\n",
      "Two of Spades has a value of 2.\n",
      "Three of Clubs has a value of 3.\n",
      "Three of Spades has a value of 3.\n",
      "Ace of Spades has a value of 11.\n",
      "Ten of Clubs has a value of 10.\n",
      "Seven of Diamonds has a value of 7.\n",
      "Seven of Clubs has a value of 7.\n",
      "Seven of Spades has a value of 7.\n",
      "Seven of Hearts has a value of 7.\n",
      "Nine of Spades has a value of 9.\n",
      "Two of Diamonds has a value of 2.\n",
      "Two of Hearts has a value of 2.\n",
      "Five of Spades has a value of 5.\n",
      "Nine of Clubs has a value of 9.\n",
      "Eight of Hearts has a value of 8.\n",
      "Queen of Diamonds has a value of 10.\n",
      "Eight of Diamonds has a value of 8.\n",
      "Six of Clubs has a value of 6.\n",
      "Ten of Diamonds has a value of 10.\n",
      "Four of Diamonds has a value of 4.\n"
     ]
    }
   ],
   "source": [
    "#insert 2\n",
    "import random\n",
    "\n",
    "cards = []\n",
    "ranks = ['Two','Three','Four','Five','Six','Seven','Eight','Nine','Ten','Jack','Queen','King','Ace']\n",
    "suits = ['Clubs', 'Diamonds', 'Hearts', 'Spades']\n",
    "values = [2,3,4,5,6,7,8,9,10,10,10,10,11]\n",
    "\n",
    "class Deck(Card):\n",
    "    def __init__(self, ranks, suits, values, cards):\n",
    "        self.cards = cards\n",
    "        for suit in suits:\n",
    "            i = 0\n",
    "            for rank in ranks:\n",
    "                self.cards.append(Card(rank, suit, values[i]))\n",
    "                i += 1\n",
    "    def shuffle(self):\n",
    "        random.shuffle(self.cards)\n",
    "    def get_top_card(self):\n",
    "        card_pop = cards.pop(0)\n",
    "        print(\"card_pop: \", card_pop)\n",
    "        return card_pop\n",
    "\n",
    "whole_pack = Deck(ranks, suits, values, cards)\n",
    "whole_pack.shuffle()\n",
    "print(len(cards))\n",
    "for card in whole_pack.cards:\n",
    "    print(card)\n",
    "#print(whole_pack.cards)"
   ]
  },
  {
   "cell_type": "markdown",
   "metadata": {},
   "source": [
    "3.One obvious **method** that you will need is a **shuffle()** method that shuffles the deck **in place**. This method should reorder the deck randomly. There are many ways to do this, but luckily, the Python random package has a shuffle method built in that shuffles a list in place! \n",
    "\n",
    "Finally, create a method called **get_top_card()**. This method should **return** the card with index 0, and remove it from the deck **in place**."
   ]
  },
  {
   "cell_type": "code",
   "execution_count": null,
   "metadata": {},
   "outputs": [],
   "source": [
    "#edit your code in the cell above to reflect these changes\n"
   ]
  },
  {
   "cell_type": "markdown",
   "metadata": {},
   "source": [
    "4.Use the cell below to test your deck method. Hint: check the length of your deck to make sure that the get_top_card method is removing a card from the deck. Also check that your deck is getting randomly shuffled. Insert some test code below."
   ]
  },
  {
   "cell_type": "code",
   "execution_count": null,
   "metadata": {},
   "outputs": [],
   "source": [
    "#insert 4\n",
    "#for card in cards:\n",
    "    #print (card)\n",
    "\n",
    "print(whole_pack.get_top_card())\n",
    "print(len(cards))"
   ]
  },
  {
   "cell_type": "markdown",
   "metadata": {},
   "source": [
    "## The Blackjack class"
   ]
  },
  {
   "cell_type": "markdown",
   "metadata": {},
   "source": [
    "When a 'single' program is built from several classes, it is common to have a runner class that is not intended to create objects. We will name our **runner class**, **Blackjack**. Since we will not be creating instances of this class, we do not need an initializing method. \n",
    "\n",
    "We will need **methods** as follows (notice that they are named so that anyone will know what they do):\n",
    "\n",
    "**player_turn()**, **computer_turn()**, **deal()**, **check_bust()**, **check_blackjack()**, **find_winner()**, and finally a **main** method to control the order of when methods will be called. See below for an outline of the main method. Your job is to finish the main and write the rest of the methods."
   ]
  },
  {
   "cell_type": "code",
   "execution_count": null,
   "metadata": {},
   "outputs": [],
   "source": []
  },
  {
   "cell_type": "code",
   "execution_count": 6,
   "metadata": {},
   "outputs": [
    {
     "name": "stdout",
     "output_type": "stream",
     "text": [
      "card_pop:  Queen of Spades has a value of 10.\n",
      "card_pop:  Six of Diamonds has a value of 6.\n",
      "card_pop:  Three of Hearts has a value of 3.\n",
      "card_pop:  Six of Hearts has a value of 6.\n",
      "current player sum:  13\n",
      "current computer sum:  12 \n",
      "\n",
      "Do you want a new card?Yes\n",
      "card_pop:  Eight of Hearts has a value of 8.\n",
      "\n",
      "Do you want a new card?No\n",
      "True\n",
      "final player sum:  21\n",
      "final computer sum:  12 \n",
      "\n",
      "Player Wins!\n"
     ]
    }
   ],
   "source": [
    "class Blackjack:\n",
    "        \n",
    "        def deal(self, deck, tally):\n",
    "            '''deals a single card and returns the new tally of all that player/'s cards'''\n",
    "            tally += deck.get_top_card().value\n",
    "            return tally\n",
    "        \n",
    "        def check_bust(self, tally):\n",
    "            '''returns True or False based on whether the tally is greater than 21'''\n",
    "            if tally > 21:\n",
    "                return True\n",
    "            else: \n",
    "                return False\n",
    "        \n",
    "        def check_blackjack(self, tally):\n",
    "            '''returns True or False based on whether the tally is equal to 21'''\n",
    "            if tally == 21:\n",
    "                return True\n",
    "            else: \n",
    "                return False\n",
    "            \n",
    "        #player method\n",
    "        def player_turn(self, deck, player_tally):\n",
    "            '''Continues to ask the user if they want to choose a new card (and then chooses a card)\n",
    "            until the player busts or chooses to stop receiving more cards. It then returns the player_sum.'''\n",
    "            answer = input(\"Do you want a new card?\")\n",
    "            while (not(answer == \"No\" or self.check_bust(player_tally))):\n",
    "                player_tally += deck.get_top_card().value\n",
    "                if (not(self.check_bust(player_tally))):\n",
    "                    answer = input(\"\\nDo you want a new card?\")\n",
    "            return player_tally\n",
    "        \n",
    "        #computer method\n",
    "        def computer_turn(self, deck, comp_tally):\n",
    "            '''Continues to choose a new card\n",
    "            until the computer busts or the comp_sum becomes 17 or higher. It then returns the comp_sum.'''\n",
    "            while (not(comp_tally >= 17 or self.check_bust(comp_tally))):\n",
    "                comp_tally += deck.get_top_card().value\n",
    "            return comp_tally\n",
    "            \n",
    " \n",
    "        \n",
    "        def find_winner(self, player_tally, comp_tally):\n",
    "            '''Prints Player Wins!, Computer Wins!, or Tie! based on a comparison of player_sum and comp_sum.'''\n",
    "            player_bust = self.check_bust(player_tally)\n",
    "            comp_bust = self.check_bust(comp_tally)\n",
    "           #print(\"comp_bust: \", comp_bust)\n",
    "            #print(\"player_bust: \", player_bust)\n",
    "            if comp_bust == True:\n",
    "                if player_bust == False:\n",
    "                    print(\"Player Wins!\")\n",
    "                else:\n",
    "                    print(\"HAHA! Bomb! The programmer won. Please mail $100 to Oregon Episcopal School as losing charge. Thank you for your participation.\")\n",
    "            if comp_bust == False:\n",
    "                if player_bust == True:\n",
    "                    print(\"Computer Wins!\")\n",
    "                else:\n",
    "                    if player_tally > comp_tally:\n",
    "                        print(\"Player Wins!\")\n",
    "                    elif player_tally < comp_tally:\n",
    "                        print(\"Computer Wins!\")\n",
    "                    else:\n",
    "                        print(\"Tie!\")\n",
    "\n",
    "        \n",
    "        def main(self):\n",
    "        \n",
    "            #create a runner class\n",
    "            game = Blackjack()\n",
    "            \n",
    "            #we will need these lists below\n",
    "            ranks = ['Two','Three','Four','Five','Six','Seven','Eight','Nine','Ten','Jack','Queen','King','Ace']\n",
    "            suits = ['Clubs', 'Diamonds', 'Hearts', 'Spades']\n",
    "            values = [2,3,4,5,6,7,8,9,10,10,10,10,11]\n",
    "\n",
    "            #create a deck object \n",
    "            deck = Deck(ranks, suits, values, cards)\n",
    "            \n",
    "            #shuffle the deck\n",
    "            random.shuffle(cards)\n",
    "\n",
    "            #initialize a player_sum and comp_sum to zero\n",
    "            player_sum = 0\n",
    "            comp_sum = 0\n",
    "            \n",
    "            #deal the first four cards (alternating player/comp/player/comp)\n",
    "            player_sum = game.deal(deck, player_sum)\n",
    "            comp_sum = game.deal(deck, comp_sum)\n",
    "            player_sum = game.deal(deck, player_sum)\n",
    "            comp_sum = game.deal(deck, comp_sum)\n",
    "            print(\"current player sum: \", player_sum)\n",
    "            print(\"current computer sum: \", comp_sum, \"\\n\")\n",
    "\n",
    "            #let the player take their turn (meaning they can choose more cards until they choose to stop or bust)\n",
    "            player_sum = game.player_turn(deck, player_sum)\n",
    "            #if the player's sum doesn't exactly equal to 21, let the computer take its turn (meaning it can choose more cards until it chooses to stop or bust)\n",
    "            print(game.check_blackjack(player_sum))\n",
    "            if not(game.check_blackjack(player_sum)):\n",
    "                comp_sum = game.computer_turn(deck, comp_sum)\n",
    "            #calculate who the winner is\n",
    "            print(\"final player sum: \", player_sum)\n",
    "            print(\"final computer sum: \", comp_sum, \"\\n\")\n",
    "            game.find_winner(player_sum, comp_sum)\n",
    "# run the main program\n",
    "if __name__ == '__main__':\n",
    "    Blackjack().main()"
   ]
  },
  {
   "cell_type": "code",
   "execution_count": null,
   "metadata": {},
   "outputs": [],
   "source": []
  },
  {
   "cell_type": "code",
   "execution_count": null,
   "metadata": {},
   "outputs": [],
   "source": []
  }
 ],
 "metadata": {
  "kernelspec": {
   "display_name": "Python 3",
   "language": "python",
   "name": "python3"
  },
  "language_info": {
   "codemirror_mode": {
    "name": "ipython",
    "version": 3
   },
   "file_extension": ".py",
   "mimetype": "text/x-python",
   "name": "python",
   "nbconvert_exporter": "python",
   "pygments_lexer": "ipython3",
   "version": "3.6.5"
  }
 },
 "nbformat": 4,
 "nbformat_minor": 1
}
